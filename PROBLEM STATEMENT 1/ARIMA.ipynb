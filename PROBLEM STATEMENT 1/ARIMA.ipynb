{
  "cells": [
    {
      "cell_type": "code",
      "execution_count": 1,
      "metadata": {
        "colab": {
          "base_uri": "https://localhost:8080/"
        },
        "id": "zmldV6dTZFSk",
        "outputId": "39e0e7aa-b4b2-4dfc-ae0a-937fadccc202"
      },
      "outputs": [
        {
          "output_type": "stream",
          "name": "stdout",
          "text": [
            "Requirement already satisfied: pandas in /usr/local/lib/python3.10/dist-packages (2.0.3)\n",
            "Requirement already satisfied: numpy in /usr/local/lib/python3.10/dist-packages (1.25.2)\n",
            "Requirement already satisfied: matplotlib in /usr/local/lib/python3.10/dist-packages (3.7.1)\n",
            "Requirement already satisfied: statsmodels in /usr/local/lib/python3.10/dist-packages (0.14.1)\n",
            "Requirement already satisfied: python-dateutil>=2.8.2 in /usr/local/lib/python3.10/dist-packages (from pandas) (2.8.2)\n",
            "Requirement already satisfied: pytz>=2020.1 in /usr/local/lib/python3.10/dist-packages (from pandas) (2023.4)\n",
            "Requirement already satisfied: tzdata>=2022.1 in /usr/local/lib/python3.10/dist-packages (from pandas) (2024.1)\n",
            "Requirement already satisfied: contourpy>=1.0.1 in /usr/local/lib/python3.10/dist-packages (from matplotlib) (1.2.0)\n",
            "Requirement already satisfied: cycler>=0.10 in /usr/local/lib/python3.10/dist-packages (from matplotlib) (0.12.1)\n",
            "Requirement already satisfied: fonttools>=4.22.0 in /usr/local/lib/python3.10/dist-packages (from matplotlib) (4.50.0)\n",
            "Requirement already satisfied: kiwisolver>=1.0.1 in /usr/local/lib/python3.10/dist-packages (from matplotlib) (1.4.5)\n",
            "Requirement already satisfied: packaging>=20.0 in /usr/local/lib/python3.10/dist-packages (from matplotlib) (24.0)\n",
            "Requirement already satisfied: pillow>=6.2.0 in /usr/local/lib/python3.10/dist-packages (from matplotlib) (9.4.0)\n",
            "Requirement already satisfied: pyparsing>=2.3.1 in /usr/local/lib/python3.10/dist-packages (from matplotlib) (3.1.2)\n",
            "Requirement already satisfied: scipy!=1.9.2,>=1.4 in /usr/local/lib/python3.10/dist-packages (from statsmodels) (1.11.4)\n",
            "Requirement already satisfied: patsy>=0.5.4 in /usr/local/lib/python3.10/dist-packages (from statsmodels) (0.5.6)\n",
            "Requirement already satisfied: six in /usr/local/lib/python3.10/dist-packages (from patsy>=0.5.4->statsmodels) (1.16.0)\n"
          ]
        }
      ],
      "source": [
        "pip install pandas numpy matplotlib statsmodels\n"
      ]
    },
    {
      "cell_type": "code",
      "source": [
        "import pandas as pd\n",
        "import numpy as np\n",
        "import matplotlib.pyplot as plt\n",
        "from statsmodels.tsa.arima.model import ARIMA\n",
        "from sklearn.metrics import mean_squared_error\n"
      ],
      "metadata": {
        "id": "UOYzqinnplQk"
      },
      "execution_count": 2,
      "outputs": []
    },
    {
      "cell_type": "code",
      "source": [
        "# Load the data\n",
        "data = {\n",
        "    'State/Union Territory': ['Andhra Pradesh', 'Arunachal Pradesh', 'Assam', 'Bihar', 'Chhattisgarh', 'NCT of Delhi', 'Goa', 'Gujarat', 'Haryana', 'Himachal Pradesh', 'Jammu & Kashmir', 'Jharkhand', 'Karnataka', 'Kerala', 'Madhya Pradesh', 'Maharashtra', 'Manipur', 'Meghalaya', 'Mizoram', 'Nagaland', 'Odisha', 'Puducherry', 'Punjab', 'Rajasthan', 'Sikkim', 'Tamil Nadu', 'Telangana', 'Tripura', 'Uttar Pradesh', 'Uttarakhand', 'West Bengal', 'ALL INDIA'],\n",
        "    '2004': [5377.8, 135, 3470.7, 2472.2, 4383.3, 14.3, 145.2, 1238.2, 3023, 122, 492.2, 1677, 3547, 667.1, 1169, 2164, 435.9, 193.7, 104.1, 259.8, 6466, 65.7, 10437, 150.4, 21.6, 5062.2, 4223.2, 545.1, 9555.6, 572, 14884.8, 83131.7],\n",
        "    '2005': [6555.7, 146.2, 3552.5, 3495.5, 5011.6, 24, 147.3, 1298, 3210, 112.1, 556.8, 1558, 5744, 629.9, 1656.3, 2695, 386.1, 151.9, 99.2, 263.1, 6859, 59.9, 10193, 153, 21.5, 5220, 5148.2, 552.9, 11133.7, 590, 14510.8, 91793.4],\n",
        "    '2006': [6649.9, 146.2, 2916, 4989.3, 5041.4, 31.1, 130.3, 1390, 3371, 123.5, 554, 2967.8, 3446, 631, 1368.4, 2569, 386.1, 200.2, 29.5, 263.5, 6824.7, 59.9, 10138, 169.8, 21.5, 6610.6, 5222.1, 620.5, 11124, 556, 14745.9, 93355.3],\n",
        "    '2007': [7463.2, 158.1, 3319, 4418.1, 5426.6, 31.4, 121.6, 1474, 3613, 121.5, 561.3, 3336.4, 3717, 528.5, 1461.9, 2996, 406.2, 200, 15.7, 290.6, 7540.7, 53.4, 10489, 259.6, 22.9, 5040.2, 5860.7, 624.6, 11780, 593, 14719.5, 96692.9],\n",
        "    '2008': [7976.8, 163.9, 4008.5, 5590.3, 4391.8, 31.4, 123.3, 1303, 3298, 118.3, 563.1, 3420.2, 3802, 590.3, 1559.7, 2284, 397, 203.9, 46, 345.1, 6812.7, 50.8, 11000, 241.1, 21.7, 5182.7, 6264.2, 627.1, 13097, 582, 15037.3, 99182.5],\n",
        "    '2009': [5902.7, 215.8, 4335.9, 3599.3, 4110.4, 19.3, 100.6, 1292, 3625, 105.9, 497.4, 1538.4, 3691, 598.3, 1260.6, 2183, 319.9, 206.7, 44.3, 240.3, 6917.5, 52.4, 11236, 228.3, 24.3, 5665.2, 4635.3, 640, 10807.1, 608, 14340.7, 89092.9],\n",
        "    '2010': [7882.4, 234, 4736.6, 3102.1, 6159, 19.6, 115, 1496.6, 3472, 128.9, 507.7, 1110, 4188, 522.7, 1772.1, 2696, 521.7, 207, 47.2, 381.4, 6827.7, 52, 10837, 265.5, 21, 5792.4, 6535.6, 702.5, 11992, 550.4, 13045.9, 95979.8],\n",
        "    '2011': [7746.2, 255, 4516.3, 7162.6, 6028.4, 19.8, 121.8, 1790, 3759, 131.6, 544.7, 3130.6, 3955, 569, 2227.3, 2841, 591, 216.5, 54.3, 382.4, 5807, 42.1, 10542, 253.4, 20.9, 7458.7, 5148.8, 718.3, 14022, 594, 14605.8, 105310.9],\n",
        "    '2012': [6862.4, 263, 5128.5, 7529.3, 6608.8, 19.7, 122.8, 1541, 3976, 125.3, 818.1, 3164.9, 3364, 508.3, 2775, 3057, 257.6, 232, 30.5, 405.2, 7295.5, 46.5, 11374, 222.5, 21.3, 4049.9, 4647.6, 713.2, 14416, 579.8, 15023.7, 105231.6],\n",
        "    '2013': [6969.7, 276.2, 4927.1, 5505.8, 6716.4, 29.6, 126.5, 1636, 3998, 120.8, 610.9, 2810.6, 3572.6, 509.2, 2844.8, 3120, 398.5, 273.9, 59, 429.6, 7613.4, 49.8, 11267, 312.6, 20.3, 5349.8, 5755, 711.8, 14636, 578.6, 15370.7, 106645.5],\n",
        "    '2014': [7233.9, 285, 5222.7, 6356.7, 6322.1, 25.9, 120.5, 1830.9, 4006, 125.2, 517.2, 3361.9, 3541, 562.1, 3625.3, 2946, 334.1, 298.2, 60.7, 454.2, 8298.2, 52.7, 11107, 366.7, 20.1, 5727.8, 4440.8, 747, 12167.9, 603.7, 14677.2, 104798.5],\n",
        "    '2015': [7488.7, 204, 5125.1, 6802.2, 5789.4, 17.3, 115.1, 1702, 4145, 129.9, 646.4, 2882.2, 3021, 549.3, 3546.7, 2593, 338.8, 301.1, 62.1, 318.8, 5875.4, 43.9, 11823, 369.8, 13.1, 7517.1, 3047, 794.8, 12501, 639.1, 15953.9, 104408.2],\n",
        "    '2016': [7452.4, 220, 4727.4, 8239.3, 8048.4, 17.3, 113.2, 1930, 4453, 146.6, 572.2, 3841.8, 2604.8, 437.1, 4226.8, 3109.5, 430.4, 203, 61.5, 336.7, 8325.9, 52.2, 11586.2, 452.87, 19.7, 2369.4, 5173.4, 814.6, 13754, 630, 15302.5, 109698.4],\n",
        "    '2017': [8166.2, 233.3, 5283.7, 8093.1, 4930.8, 16.8, 103, 1890.9, 4523.38, 114.79, 513.14, 4078.04, 3017.1, 521.3, 4123.9, 2730.8, 607.8, 304.6, 59.6, 349.6, 6551.3, 42.5, 13381.79, 450.87, 17.63, 6638.9, 6262.2, 812.1, 13274, 646.7, 14967, 112757.6],\n",
        "    '2018': [8234.7, 240, 5220.6, 6155.5, 6526.9, 16.8, 98.8, 1912.1, 4516.1, 114.9, 615.8, 2893.9, 3431, 578.3, 4494.7, 3275.7, 401.6, 202, 60, 356.7, 7733.7, 63.3, 12821.6, 453.2, 17.2, 6130.9, 6670, 793.2, 15545.3, 617.6, 16242.2, 116477.8],\n",
        "    '2019': [8658.9, 244.7, 4984.6, 6298, 6774.8, 16.8, 90.4, 1983.1, 4824.3, 143.8, 587, 3012.8, 3634.5, 605.6, 4778.2, 2897.6, 385.5, 303.4, 62.2, 363.3, 8360.4, 59.4, 11779.3, 480.5, 16.1, 7171.1, 7427.8, 810.2, 15517.8, 658.4, 15881.4, 118870.3],\n",
        "    '2020': [7882.9, 247.1, 5214.8, 6747, 7161.2, 19.8, 87.3, 2145.7, 4424.9, 140.5, 581.5, 2752.9, 4291.8, 633.8, 4413.8, 3291.7, 602.2, 295.9, 60.9, 367.4, 8810.3, 50, 12783.7, 634, 16.2, 6881.2, 10217.1, 803.1, 15271.5, 714.9, 16524.4, 124368.3],\n",
        "    '2021': [7763.6, 252.4, 4382.1, 7717, 8021.7, 19, 90.4, 2101.1, 4618, 167.5, 492.9, 2930.5, 4318.4, 487, 4814.9, 3598.1, 567.4, 297.3, 60, 150.7, 9290.8, 57.1, 12885.5, 478.6, 16, 7906.6, 12409.6, 811, 16728.7, 716.1, 129471.4, 129471.4]\n",
        "}"
      ],
      "metadata": {
        "id": "zDSKjZMyp-wd"
      },
      "execution_count": 3,
      "outputs": []
    },
    {
      "cell_type": "code",
      "source": [
        "# Create a DataFrame\n",
        "df = pd.DataFrame(data)\n"
      ],
      "metadata": {
        "id": "-SPw3iJMqPVz"
      },
      "execution_count": 4,
      "outputs": []
    },
    {
      "cell_type": "code",
      "source": [
        "# Set the 'State/Union Territory' column as index\n",
        "df.set_index('State/Union Territory', inplace=True)"
      ],
      "metadata": {
        "id": "XQmm9MZEsce9"
      },
      "execution_count": 5,
      "outputs": []
    },
    {
      "cell_type": "code",
      "source": [
        "# Transpose the DataFrame\n",
        "df = df.T"
      ],
      "metadata": {
        "id": "eexmIzEUeBLv"
      },
      "execution_count": 6,
      "outputs": []
    },
    {
      "cell_type": "code",
      "source": [
        "# Convert index to datetime\n",
        "df.index = pd.to_datetime(df.index, format='%Y')\n"
      ],
      "metadata": {
        "id": "t-bY88CqeFKs"
      },
      "execution_count": 7,
      "outputs": []
    },
    {
      "cell_type": "code",
      "source": [
        "# Define a function to fit ARIMA model and make predictions\n",
        "def fit_arima(series, order):\n",
        "    model = ARIMA(series, order=order)\n",
        "    model_fit = model.fit()\n",
        "    forecast = model_fit.forecast(steps=5)\n",
        "    return forecast\n"
      ],
      "metadata": {
        "id": "-WuzOzyieFUI"
      },
      "execution_count": 8,
      "outputs": []
    },
    {
      "cell_type": "code",
      "source": [
        "# Define function to evaluate ARIMA model\n",
        "def evaluate_arima(series, order):\n",
        "    # Split data into train and test sets\n",
        "    train_size = int(len(series) * 0.8)\n",
        "    train, test = series[0:train_size], series[train_size:]\n",
        "\n",
        "    # Fit model\n",
        "    history = [x for x in train]\n",
        "    predictions = []\n",
        "    for t in range(len(test)):\n",
        "        model = ARIMA(history, order=order)\n",
        "        model_fit = model.fit()\n",
        "        yhat = model_fit.forecast()[0]\n",
        "        predictions.append(yhat)\n",
        "        history.append(test[t])\n",
        "\n",
        "    # Calculate RMSE\n",
        "    rmse = np.sqrt(mean_squared_error(test, predictions))\n",
        "    return rmse"
      ],
      "metadata": {
        "id": "VANSCdpweFWb"
      },
      "execution_count": 9,
      "outputs": []
    },
    {
      "cell_type": "code",
      "source": [
        "# Iterate over each state and fit ARIMA model\n",
        "predictions = {}\n",
        "for state in df.columns:\n",
        "    series = df[state]\n",
        "    best_rmse, best_order = float('inf'), None\n",
        "    for p in range(3):\n",
        "        for d in range(3):\n",
        "            for q in range(3):\n",
        "                order = (p, d, q)\n",
        "                try:\n",
        "                    rmse = evaluate_arima(series, order)\n",
        "                    if rmse < best_rmse:\n",
        "                        best_rmse, best_order = rmse, order\n",
        "                except:\n",
        "                    continue\n",
        "    if best_order:\n",
        "        forecast = fit_arima(series, best_order)\n",
        "        predictions[state] = forecast.tolist()\n",
        "\n",
        "# Display predictions\n",
        "for state, forecast in predictions.items():\n",
        "    print(f\"Predictions for {state}: {forecast}\")\n",
        "\n",
        "# Plotting actual vs predicted values for a state\n",
        "state_name = 'ALL INDIA'\n",
        "plt.figure(figsize=(10, 6))\n",
        "plt.plot(df.index, df[state_name], label='Actual')\n",
        "plt.plot(pd.date_range(start=df.index[-1], periods=6, freq='Y')[1:], predictions[state_name], label='Predicted')\n",
        "plt.title(f\"Actual vs Predicted values for {state_name}\")\n",
        "plt.xlabel('Year')\n",
        "plt.ylabel('GDP')\n",
        "plt.legend()\n",
        "plt.grid(True)\n",
        "plt.show()"
      ],
      "metadata": {
        "id": "ODYsOVR7eFYp"
      },
      "execution_count": null,
      "outputs": []
    },
    {
      "cell_type": "code",
      "source": [
        "state_name = 'ALL INDIA'\n",
        "plt.figure(figsize=(10, 6))\n",
        "plt.bar(df.index, df[state_name], label='Actual', width=100)\n",
        "plt.bar(pd.date_range(start=df.index[-1], periods=6, freq='Y')[1:], predictions[state_name], label='Predicted', width=100)\n",
        "plt.title(f\"Actual vs Predicted values for {state_name}\")\n",
        "plt.xlabel('Year')\n",
        "plt.ylabel('GDP')\n",
        "plt.legend()\n",
        "plt.grid(True)\n",
        "plt.show()\n"
      ],
      "metadata": {
        "id": "4FTsJchheFa5",
        "colab": {
          "base_uri": "https://localhost:8080/",
          "height": 564
        },
        "outputId": "03bfbb90-f36a-4654-acdd-d23821e6642e"
      },
      "execution_count": 18,
      "outputs": [
        {
          "output_type": "display_data",
          "data": {
            "text/plain": [
              "<Figure size 1000x600 with 1 Axes>"
            ],
            "image/png": "[encoded data removed]"
          },
          "metadata": {}
        }
      ]
    },
    {
      "cell_type": "code",
      "source": [],
      "metadata": {
        "id": "g-YssrS4eFdZ"
      },
      "execution_count": null,
      "outputs": []
    },
    {
      "cell_type": "code",
      "source": [],
      "metadata": {
        "id": "6bUUntW7eFgp"
      },
      "execution_count": null,
      "outputs": []
    },
    {
      "cell_type": "code",
      "execution_count": null,
      "metadata": {
        "colab": {
          "base_uri": "https://localhost:8080/",
          "height": 211
        },
        "id": "E07d0-PSbbxe",
        "outputId": "68725060-2b99-4d9e-a160-ad7d069e7151"
      },
      "outputs": [
        {
          "output_type": "error",
          "ename": "NameError",
          "evalue": "name 'data' is not defined",
          "traceback": [
            "\u001b[0;31m---------------------------------------------------------------------------\u001b[0m",
            "\u001b[0;31mNameError\u001b[0m                                 Traceback (most recent call last)",
            "\u001b[0;32m<ipython-input-1-5b8a84c5cade>\u001b[0m in \u001b[0;36m<cell line: 23>\u001b[0;34m()\u001b[0m\n\u001b[1;32m     21\u001b[0m \u001b[0;31m# Predict GDP for each state/union territory for the year 2022-23\u001b[0m\u001b[0;34m\u001b[0m\u001b[0;34m\u001b[0m\u001b[0m\n\u001b[1;32m     22\u001b[0m \u001b[0mpredictions\u001b[0m \u001b[0;34m=\u001b[0m \u001b[0;34m{\u001b[0m\u001b[0;34m}\u001b[0m\u001b[0;34m\u001b[0m\u001b[0;34m\u001b[0m\u001b[0m\n\u001b[0;32m---> 23\u001b[0;31m \u001b[0;32mfor\u001b[0m \u001b[0mstate\u001b[0m \u001b[0;32min\u001b[0m \u001b[0mdata\u001b[0m\u001b[0;34m.\u001b[0m\u001b[0mcolumns\u001b[0m\u001b[0;34m:\u001b[0m\u001b[0;34m\u001b[0m\u001b[0;34m\u001b[0m\u001b[0m\n\u001b[0m\u001b[1;32m     24\u001b[0m     \u001b[0mstate_data\u001b[0m \u001b[0;34m=\u001b[0m \u001b[0mdata\u001b[0m\u001b[0;34m[\u001b[0m\u001b[0mstate\u001b[0m\u001b[0;34m]\u001b[0m\u001b[0;34m\u001b[0m\u001b[0;34m\u001b[0m\u001b[0m\n\u001b[1;32m     25\u001b[0m     \u001b[0mpredictions\u001b[0m\u001b[0;34m[\u001b[0m\u001b[0mstate\u001b[0m\u001b[0;34m]\u001b[0m \u001b[0;34m=\u001b[0m \u001b[0marima_predict\u001b[0m\u001b[0;34m(\u001b[0m\u001b[0mstate_data\u001b[0m\u001b[0;34m)\u001b[0m\u001b[0;34m\u001b[0m\u001b[0;34m\u001b[0m\u001b[0m\n",
            "\u001b[0;31mNameError\u001b[0m: name 'data' is not defined"
          ]
        }
      ],
      "source": []
    }
  ],
  "metadata": {
    "colab": {
      "provenance": []
    },
    "kernelspec": {
      "display_name": "Python 3",
      "name": "python3"
    },
    "language_info": {
      "name": "python"
    }
  },
  "nbformat": 4,
  "nbformat_minor": 0
}